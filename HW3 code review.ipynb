{
 "cells": [
  {
   "cell_type": "markdown",
   "metadata": {},
   "source": [
    "## Notes to self\n",
    "\n",
    "- Adjust to PEP8 standards: https://www.python.org/dev/peps/pep-0008/\n",
    "- Put notes about Why Naive Bayes earlier\n"
   ]
  },
  {
   "cell_type": "code",
   "execution_count": 2,
   "metadata": {},
   "outputs": [
    {
     "ename": "ModuleNotFoundError",
     "evalue": "No module named 'requests'",
     "output_type": "error",
     "traceback": [
      "\u001b[0;31m---------------------------------------------------------------------------\u001b[0m",
      "\u001b[0;31mModuleNotFoundError\u001b[0m                       Traceback (most recent call last)",
      "\u001b[0;32m<ipython-input-2-59a3cb6b72b5>\u001b[0m in \u001b[0;36m<module>\u001b[0;34m()\u001b[0m\n\u001b[1;32m      3\u001b[0m \u001b[0;32mimport\u001b[0m \u001b[0mjson\u001b[0m\u001b[0;34m\u001b[0m\u001b[0m\n\u001b[1;32m      4\u001b[0m \u001b[0;34m\u001b[0m\u001b[0m\n\u001b[0;32m----> 5\u001b[0;31m \u001b[0;32mimport\u001b[0m \u001b[0mrequests\u001b[0m\u001b[0;34m\u001b[0m\u001b[0m\n\u001b[0m\u001b[1;32m      6\u001b[0m \u001b[0;32mimport\u001b[0m \u001b[0mpandas\u001b[0m \u001b[0;32mas\u001b[0m \u001b[0mpd\u001b[0m\u001b[0;34m\u001b[0m\u001b[0m\n\u001b[1;32m      7\u001b[0m \u001b[0;32mimport\u001b[0m \u001b[0mnumpy\u001b[0m \u001b[0;32mas\u001b[0m \u001b[0mnp\u001b[0m\u001b[0;34m\u001b[0m\u001b[0m\n",
      "\u001b[0;31mModuleNotFoundError\u001b[0m: No module named 'requests'"
     ]
    }
   ],
   "source": [
    "%matplotlib inline\n",
    "\n",
    "import json\n",
    "\n",
    "import requests\n",
    "import pandas as pd\n",
    "import numpy as np\n",
    "import matplotlib.pyplot as plt\n",
    "\n",
    "pd.set_option('display.width', 500)\n",
    "pd.set_option('display.max_columns', 30)\n",
    "\n",
    "# set some nicer defaults for matplotlib\n",
    "from matplotlib import rcParams\n",
    "\n",
    "#these colors come from colorbrewer2.org. Each is an RGB triplet\n",
    "\"\"\"\n",
    "DAN: BEST PRACTICE IS TO NOT HAVE ANY RANDOM NUMBERS IN YOUR CODE. SOMETHING BIG LIKE THIS YOU WOULD PROBABLY\n",
    "WANT TO PUT INTO A JSON OR CSV FILE AND LOAD IT AT RUNTIME. BIG BLOCKS OF NUMBERS RAISE QUESTIONS AND ARE HARDER TO \n",
    "MAINTAIN\n",
    "\n",
    "THIS MATTERS LESS FOR DATA SCIENCEY NOTEBOOK CODE, BUT IS ABSOLUTE LAW FOR ANY KIND OF PRODUCTION CODE\n",
    "\"\"\"\n",
    "dark2_colors = [(0.10588235294117647, 0.6196078431372549, 0.4666666666666667),\n",
    "                (0.8509803921568627, 0.37254901960784315, 0.00784313725490196),\n",
    "                (0.4588235294117647, 0.4392156862745098, 0.7019607843137254),\n",
    "                (0.9058823529411765, 0.1607843137254902, 0.5411764705882353),\n",
    "                (0.4, 0.6509803921568628, 0.11764705882352941),\n",
    "                (0.9019607843137255, 0.6705882352941176, 0.00784313725490196),\n",
    "                (0.6509803921568628, 0.4627450980392157, 0.11372549019607843),\n",
    "                (0.4, 0.4, 0.4)]\n",
    "\n",
    "\n",
    "\"\"\"\n",
    "DAN: PUT COMMENTS HERE\n",
    "\"\"\"\n",
    "rcParams['figure.figsize'] = (10, 6)\n",
    "rcParams['figure.dpi'] = 150\n",
    "rcParams['axes.color_cycle'] = dark2_colors\n",
    "rcParams['lines.linewidth'] = 2\n",
    "rcParams['axes.grid'] = False\n",
    "rcParams['axes.facecolor'] = 'white'\n",
    "rcParams['font.size'] = 14\n",
    "rcParams['patch.edgecolor'] = 'none'\n",
    "\n",
    "\n",
    "\n",
    "def remove_border(axes=None, top=False, right=False, left=True, bottom=True):\n",
    "    \"\"\"\n",
    "    DAN: DO YOU EVER CALL THIS METHOD? WHY IS IT HERE?\n",
    "    \"\"\"\n",
    "\n",
    "    \"\"\"\n",
    "    Minimize chartjunk by stripping out unnecessary plot borders and axis ticks\n",
    "    \n",
    "    The top/right/left/bottom keywords toggle whether the corresponding plot border is drawn\n",
    "    \"\"\"\n",
    "    ax = axes or plt.gca()\n",
    "    ax.spines['top'].set_visible(top)\n",
    "    ax.spines['right'].set_visible(right)\n",
    "    ax.spines['left'].set_visible(left)\n",
    "    ax.spines['bottom'].set_visible(bottom)\n",
    "    \n",
    "    #turn off all ticks\n",
    "    ax.yaxis.set_ticks_position('none')\n",
    "    ax.xaxis.set_ticks_position('none')\n",
    "    \n",
    "    #now re-enable visibles\n",
    "    if top:\n",
    "        ax.xaxis.tick_top()\n",
    "    if bottom:\n",
    "        ax.xaxis.tick_bottom()\n",
    "    if left:\n",
    "        ax.yaxis.tick_left()\n",
    "    if right:\n",
    "        ax.yaxis.tick_right()"
   ]
  },
  {
   "cell_type": "code",
   "execution_count": null,
   "metadata": {
    "collapsed": true
   },
   "outputs": [],
   "source": [
    "\"\"\"first, a note on scraping pitchfork: according to their robots.txt file, scraping is allowed,\n",
    "as long as users aren't scraping any of their search pages.\n",
    "User-agent: *\n",
    "Allow: /\n",
    "Disallow: /search/\n",
    "Disallow: /search\"\"\""
   ]
  },
  {
   "cell_type": "markdown",
   "metadata": {},
   "source": [
    "## Scraping Pitchfork for Reviews"
   ]
  },
  {
   "cell_type": "code",
   "execution_count": 12,
   "metadata": {},
   "outputs": [],
   "source": [
    "#attempt with the pitchfork api failed, not sure why. will scrape myself\n",
    "import pitchfork\n",
    "from bs4 import BeautifulSoup\n",
    "#p = pitchfork.search('trans am', 'liberation')\n"
   ]
  },
  {
   "cell_type": "code",
   "execution_count": 133,
   "metadata": {},
   "outputs": [
    {
     "data": {
      "text/html": [
       "<div>\n",
       "<style>\n",
       "    .dataframe thead tr:only-child th {\n",
       "        text-align: right;\n",
       "    }\n",
       "\n",
       "    .dataframe thead th {\n",
       "        text-align: left;\n",
       "    }\n",
       "\n",
       "    .dataframe tbody tr th {\n",
       "        vertical-align: top;\n",
       "    }\n",
       "</style>\n",
       "<table border=\"1\" class=\"dataframe\">\n",
       "  <thead>\n",
       "    <tr style=\"text-align: right;\">\n",
       "      <th></th>\n",
       "      <th>artist</th>\n",
       "      <th>album</th>\n",
       "      <th>score</th>\n",
       "      <th>reviewer</th>\n",
       "      <th>url</th>\n",
       "    </tr>\n",
       "  </thead>\n",
       "  <tbody>\n",
       "    <tr>\n",
       "      <th>0</th>\n",
       "      <td>Burial</td>\n",
       "      <td>Rival Dealer EP</td>\n",
       "      <td>9.0</td>\n",
       "      <td>Larry Fitzmaurice</td>\n",
       "      <td>http://pitchfork.com/reviews/albums/18820-buri...</td>\n",
       "    </tr>\n",
       "    <tr>\n",
       "      <th>1</th>\n",
       "      <td>The Thing</td>\n",
       "      <td>BOOT!</td>\n",
       "      <td>7.7</td>\n",
       "      <td>Aaron Leitko</td>\n",
       "      <td>http://pitchfork.com/reviews/albums/18735-the-...</td>\n",
       "    </tr>\n",
       "    <tr>\n",
       "      <th>2</th>\n",
       "      <td>Lumbar</td>\n",
       "      <td>The First And Last Days Of Unwelcome</td>\n",
       "      <td>7.7</td>\n",
       "      <td>Grayson Currin</td>\n",
       "      <td>http://pitchfork.com/reviews/albums/18705-lumb...</td>\n",
       "    </tr>\n",
       "    <tr>\n",
       "      <th>3</th>\n",
       "      <td>Bryce Hackford</td>\n",
       "      <td>Fair</td>\n",
       "      <td>7.0</td>\n",
       "      <td>Nick Neyland</td>\n",
       "      <td>http://pitchfork.com/reviews/albums/18789-bryc...</td>\n",
       "    </tr>\n",
       "    <tr>\n",
       "      <th>4</th>\n",
       "      <td>Waka Flocka Flame</td>\n",
       "      <td>DuFlocka Rant 2</td>\n",
       "      <td>7.1</td>\n",
       "      <td>Miles Raymer</td>\n",
       "      <td>http://pitchfork.com/reviews/albums/17760-waka...</td>\n",
       "    </tr>\n",
       "  </tbody>\n",
       "</table>\n",
       "</div>"
      ],
      "text/plain": [
       "              artist                                 album  score           reviewer                                                url\n",
       "0             Burial                       Rival Dealer EP    9.0  Larry Fitzmaurice  http://pitchfork.com/reviews/albums/18820-buri...\n",
       "1          The Thing                                 BOOT!    7.7       Aaron Leitko  http://pitchfork.com/reviews/albums/18735-the-...\n",
       "2             Lumbar  The First And Last Days Of Unwelcome    7.7     Grayson Currin  http://pitchfork.com/reviews/albums/18705-lumb...\n",
       "3     Bryce Hackford                                  Fair    7.0       Nick Neyland  http://pitchfork.com/reviews/albums/18789-bryc...\n",
       "4  Waka Flocka Flame                       DuFlocka Rant 2    7.1       Miles Raymer  http://pitchfork.com/reviews/albums/17760-waka..."
      ]
     },
     "execution_count": 133,
     "metadata": {},
     "output_type": "execute_result"
    }
   ],
   "source": [
    "#import the artists and albums from 'meddulla's github page\n",
    "pitchfork_data = pd.read_csv(\n",
    "    'https://gist.githubusercontent.com/meddulla/8277139/raw/f1595d50cada910d082bc1dfd8ef47ff49910cb3/pitchfork-reviews.csv',\n",
    "           sep = ',')\n",
    "pitchfork_data.head()"
   ]
  },
  {
   "cell_type": "code",
   "execution_count": 134,
   "metadata": {},
   "outputs": [
    {
     "name": "stdout",
     "output_type": "stream",
     "text": [
      "min/mean/max:  0.0 6.955978497748127 10.0\n",
      "# reviews:  6884\n"
     ]
    }
   ],
   "source": [
    "print('min/mean/max: ',pitchfork_data.score.min(), pitchfork_data.score.mean(), pitchfork_data.score.max())\n",
    "print('# reviews: ',len(reviews))"
   ]
  },
  {
   "cell_type": "code",
   "execution_count": 649,
   "metadata": {},
   "outputs": [],
   "source": [
    "#pull soup of text from a pitchfork review link\n",
    "#can delete this cell\n",
    "from bs4 import BeautifulSoup\n",
    "import requests\n",
    "r = requests.get(reviews.url[0])\n",
    "soup = BeautifulSoup(r.text, 'lxml')"
   ]
  },
  {
   "cell_type": "code",
   "execution_count": 3,
   "metadata": {},
   "outputs": [],
   "source": [
    "#input: urls in a pandas series format\n",
    "#output: review text for each of those links as an array of strings\n",
    "\n",
    "def get_multiple_reviews(urls):\n",
    "    if isinstance(urls, pd.Series):\n",
    "        review_text = []\n",
    "        for link in urls:\n",
    "            #pull url html into a beautifulsoup object\n",
    "            r = requests.get(link)\n",
    "            soup = BeautifulSoup(r.text, 'lxml')\n",
    "            #pull all paragraph tags/contents with soup.findAll, and then put the text into one string\n",
    "            \n",
    "            \n",
    "            \"\"\"\n",
    "            DAN: THERE IS BASICALLY NEVER A REASON TO USE THE map FUNCTION IN PYTHON. JUST STICK TO LIST COMPREHENSIONS.\n",
    "            \"\"\"\n",
    "            review_text.append('\\n\\n'.join(map(str, [i.text for i in soup.findAll('p')])))\n",
    "        \n",
    "        \"\"\"\n",
    "        DAN: FUNCTIONS SHOULD ONLY HAVE ONE RETURN STATEMENT, AND IT SHOULD BE THE VERY LAST THING IN THE FUNCTION. MUCH\n",
    "        EASIER TO KEEP TRACK OF THIS WAY\n",
    "        \"\"\"\n",
    "        return review_text\n",
    "    else:\n",
    "        \"\"\"\n",
    "        DAN: THIS SHOULD BE AN EXCEPTION http://www.pythonforbeginners.com/error-handling/exception-handling-in-python\n",
    "        \"\"\"\n",
    "        print('Check inputs - confirm they\\'re in pd.Series format')\n",
    "        return\n"
   ]
  },
  {
   "cell_type": "code",
   "execution_count": 336,
   "metadata": {},
   "outputs": [],
   "source": [
    "#scraping pitchfork takes a while, so let's just sample a few hundred reviews\n",
    "sample_df = pitchfork_data.sample(2000)\n",
    "sample_reviews = get_multiple_reviews(sample_df.url)\n"
   ]
  },
  {
   "cell_type": "code",
   "execution_count": 337,
   "metadata": {},
   "outputs": [
    {
     "data": {
      "text/html": [
       "<div>\n",
       "<style>\n",
       "    .dataframe thead tr:only-child th {\n",
       "        text-align: right;\n",
       "    }\n",
       "\n",
       "    .dataframe thead th {\n",
       "        text-align: left;\n",
       "    }\n",
       "\n",
       "    .dataframe tbody tr th {\n",
       "        vertical-align: top;\n",
       "    }\n",
       "</style>\n",
       "<table border=\"1\" class=\"dataframe\">\n",
       "  <thead>\n",
       "    <tr style=\"text-align: right;\">\n",
       "      <th></th>\n",
       "      <th>artist</th>\n",
       "      <th>album</th>\n",
       "      <th>score</th>\n",
       "      <th>reviewer</th>\n",
       "      <th>url</th>\n",
       "      <th>review</th>\n",
       "    </tr>\n",
       "  </thead>\n",
       "  <tbody>\n",
       "    <tr>\n",
       "      <th>3454</th>\n",
       "      <td>Flying</td>\n",
       "      <td>Faces of the Night</td>\n",
       "      <td>5.8</td>\n",
       "      <td>Andrew Gaerig</td>\n",
       "      <td>http://pitchfork.com/reviews/albums/11490-face...</td>\n",
       "      <td>After playing avant-pop that fused Brooklyn's ...</td>\n",
       "    </tr>\n",
       "    <tr>\n",
       "      <th>3584</th>\n",
       "      <td>Arp</td>\n",
       "      <td>In Light</td>\n",
       "      <td>7.6</td>\n",
       "      <td>Mark Richardson</td>\n",
       "      <td>http://pitchfork.com/reviews/albums/11353-in-l...</td>\n",
       "      <td>Former Tussle member Alexis Georgopoulos reinv...</td>\n",
       "    </tr>\n",
       "    <tr>\n",
       "      <th>2855</th>\n",
       "      <td>The Very Best</td>\n",
       "      <td>Warm Heart of Africa</td>\n",
       "      <td>8.6</td>\n",
       "      <td>Brian Howe</td>\n",
       "      <td>http://pitchfork.com/reviews/albums/13518-warm...</td>\n",
       "      <td>Best new music\\n\\nThe full-length debut from t...</td>\n",
       "    </tr>\n",
       "    <tr>\n",
       "      <th>2131</th>\n",
       "      <td>Amazing Baby</td>\n",
       "      <td>Rewild</td>\n",
       "      <td>6.1</td>\n",
       "      <td>Nate Patrin</td>\n",
       "      <td>http://pitchfork.com/reviews/albums/13286-rewild/</td>\n",
       "      <td>These MGMT buddies have been the focus of a co...</td>\n",
       "    </tr>\n",
       "    <tr>\n",
       "      <th>1065</th>\n",
       "      <td>Psychedelic Horseshit</td>\n",
       "      <td>Laced</td>\n",
       "      <td>7.3</td>\n",
       "      <td>Marc Masters</td>\n",
       "      <td>http://pitchfork.com/reviews/albums/15425-laced/</td>\n",
       "      <td>Now a duo, the self-proclaimed shitgaze band i...</td>\n",
       "    </tr>\n",
       "  </tbody>\n",
       "</table>\n",
       "</div>"
      ],
      "text/plain": [
       "                     artist                 album  score         reviewer                                                url                                             review\n",
       "3454                 Flying    Faces of the Night    5.8    Andrew Gaerig  http://pitchfork.com/reviews/albums/11490-face...  After playing avant-pop that fused Brooklyn's ...\n",
       "3584                    Arp              In Light    7.6  Mark Richardson  http://pitchfork.com/reviews/albums/11353-in-l...  Former Tussle member Alexis Georgopoulos reinv...\n",
       "2855          The Very Best  Warm Heart of Africa    8.6       Brian Howe  http://pitchfork.com/reviews/albums/13518-warm...  Best new music\\n\\nThe full-length debut from t...\n",
       "2131           Amazing Baby                Rewild    6.1      Nate Patrin  http://pitchfork.com/reviews/albums/13286-rewild/  These MGMT buddies have been the focus of a co...\n",
       "1065  Psychedelic Horseshit                 Laced    7.3     Marc Masters   http://pitchfork.com/reviews/albums/15425-laced/  Now a duo, the self-proclaimed shitgaze band i..."
      ]
     },
     "execution_count": 337,
     "metadata": {},
     "output_type": "execute_result"
    }
   ],
   "source": [
    "sample_df['review'] = sample_reviews\n",
    "sample_df.head()"
   ]
  },
  {
   "cell_type": "markdown",
   "metadata": {},
   "source": [
    "## Exploring the reviews data set"
   ]
  },
  {
   "cell_type": "code",
   "execution_count": 522,
   "metadata": {},
   "outputs": [
    {
     "name": "stdout",
     "output_type": "stream",
     "text": [
      "# of reviews:  2000\n",
      "# of reviewers:  186\n"
     ]
    }
   ],
   "source": [
    "#Let's explore the data we've got a bit\n",
    "\n",
    "\"\"\"\n",
    "DAN: THIS CAN JUST BE print('# of reviews: ', len(sample_df))\n",
    "\"\"\"\n",
    "\n",
    "print('# of reviews: ', len(sample_df.review))\n",
    "print('# of reviewers: ', len(sample_df.reviewer.unique()))\n"
   ]
  },
  {
   "cell_type": "code",
   "execution_count": 523,
   "metadata": {},
   "outputs": [
    {
     "data": {
      "text/plain": [
       "(array([ 80.,  19.,  26.,  12.,   7.,   2.,   6.,   3.,   4.,   4.,   2.,\n",
       "          3.,   2.,   3.,   2.,   0.,   3.,   1.,   0.,   1.,   0.,   1.,\n",
       "          0.,   0.,   1.,   1.,   1.,   0.,   0.,   0.,   0.,   0.,   0.,\n",
       "          0.,   1.,   0.,   0.,   0.,   0.,   1.]),\n",
       " array([   1. ,    3.5,    6. ,    8.5,   11. ,   13.5,   16. ,   18.5,\n",
       "          21. ,   23.5,   26. ,   28.5,   31. ,   33.5,   36. ,   38.5,\n",
       "          41. ,   43.5,   46. ,   48.5,   51. ,   53.5,   56. ,   58.5,\n",
       "          61. ,   63.5,   66. ,   68.5,   71. ,   73.5,   76. ,   78.5,\n",
       "          81. ,   83.5,   86. ,   88.5,   91. ,   93.5,   96. ,   98.5,\n",
       "         101. ]),\n",
       " <a list of 40 Patch objects>)"
      ]
     },
     "execution_count": 523,
     "metadata": {},
     "output_type": "execute_result"
    },
    {
     "data": {
      "image/png": "[encoded data removed]",
      "text/plain": [
       "<matplotlib.figure.Figure at 0x2783070f080>"
      ]
     },
     "metadata": {},
     "output_type": "display_data"
    }
   ],
   "source": [
    "#Histogram to look at the spread of reviewers\n",
    "plt.title('How Prolific are the Reviewers?')\n",
    "plt.xlabel('Quantity of Reviews')\n",
    "plt.ylabel('Number of Reviewers')\n",
    "plt.hist(sample_df.groupby('reviewer').review.count(), bins=40)"
   ]
  },
  {
   "cell_type": "code",
   "execution_count": 524,
   "metadata": {},
   "outputs": [
    {
     "name": "stdout",
     "output_type": "stream",
     "text": [
      "The 5 most prolific reviewers:\n",
      " reviewer\n",
      "Joe Tangari           101\n",
      "Stephen M. Deusner     88\n",
      "Brian Howe             67\n",
      "Ian Cohen              65\n",
      "Marc Hogan             61\n",
      "Name: review, dtype: int64\n"
     ]
    }
   ],
   "source": [
    "\"\"\"\n",
    "DAN: FUN. ALSO CHECK OUT Counter in the collections module. Pandas is more tool appropriate here, but Counter is\n",
    "more efficient for other situations\n",
    "\"\"\"\n",
    "\n",
    "top_5_reviewers = sample_df.groupby('reviewer').review.count().nlargest(5)\n",
    "print('The 5 most prolific reviewers:\\n', top_5_reviewers)\n"
   ]
  },
  {
   "cell_type": "code",
   "execution_count": 525,
   "metadata": {},
   "outputs": [
    {
     "data": {
      "text/plain": [
       "(array([ 4.,  5.,  2.,  1.,  5.,  6.,  3.,  1.,  2.,  2.]),\n",
       " array([ 6.28275862,  6.43125695,  6.57975528,  6.72825362,  6.87675195,\n",
       "         7.02525028,  7.17374861,  7.32224694,  7.47074527,  7.6192436 ,\n",
       "         7.76774194]),\n",
       " <a list of 10 Patch objects>)"
      ]
     },
     "execution_count": 525,
     "metadata": {},
     "output_type": "execute_result"
    },
    {
     "data": {
      "image/png": "[encoded data removed]",
      "text/plain": [
       "<matplotlib.figure.Figure at 0x2786c42a860>"
      ]
     },
     "metadata": {},
     "output_type": "display_data"
    }
   ],
   "source": [
    "#pull the names of all reviewers with >20 reviews\n",
    "#use that to get average reviews for relatively prolific reviewers\n",
    "floor_score = 20\n",
    "df_count = sample_df.groupby('reviewer').count()\n",
    "df_mean = sample_df.groupby('reviewer').mean()\n",
    "\n",
    "\"\"\"\n",
    "DAN: In general you should use string format instead\n",
    "\n",
    "\"my string here is called: {}\".format(variable_containing_name_of_string) \n",
    "\"\"\"\n",
    "\n",
    "plt.title('Average score for reviewers with >%i reviews' %floor_score)\n",
    "plt.ylabel('# Reviewers')\n",
    "plt.xlabel('Score')\n",
    "plt.hist(df_mean[sample_df.groupby('reviewer').count().review>floor_score].score)\n"
   ]
  },
  {
   "cell_type": "code",
   "execution_count": null,
   "metadata": {},
   "outputs": [],
   "source": [
    "\"\"\"\n",
    "DAN: I see that you're using a cutoff score to frame this problem as a classification problem (bad review vs good review)\n",
    "In reality, you may want this to be a regression problem (predict the exact score). Try that out too (you need to use\n",
    "a different model of course, maybe linear regression?)\n",
    "\"\"\""
   ]
  },
  {
   "cell_type": "code",
   "execution_count": 630,
   "metadata": {},
   "outputs": [
    {
     "name": "stdout",
     "output_type": "stream",
     "text": [
      "Percent of reviews are 'good' new music (>7.0):  54.25\n"
     ]
    }
   ],
   "source": [
    "cutoff_score = 7\n",
    "print('Percent of reviews are \\'good\\' new music (>%i.0): ' %cutoff_score, sum(sample_df.score>7.0)/sum(sample_df.score>0)*100)\n",
    "#originally I had a cutoff_score of 8, but 7 seemed easier for my poor little model"
   ]
  },
  {
   "cell_type": "code",
   "execution_count": 527,
   "metadata": {},
   "outputs": [
    {
     "data": {
      "text/html": [
       "<div>\n",
       "<style>\n",
       "    .dataframe thead tr:only-child th {\n",
       "        text-align: right;\n",
       "    }\n",
       "\n",
       "    .dataframe thead th {\n",
       "        text-align: left;\n",
       "    }\n",
       "\n",
       "    .dataframe tbody tr th {\n",
       "        vertical-align: top;\n",
       "    }\n",
       "</style>\n",
       "<table border=\"1\" class=\"dataframe\">\n",
       "  <thead>\n",
       "    <tr style=\"text-align: right;\">\n",
       "      <th></th>\n",
       "      <th>artist</th>\n",
       "      <th>album</th>\n",
       "      <th>score</th>\n",
       "      <th>reviewer</th>\n",
       "      <th>url</th>\n",
       "      <th>review</th>\n",
       "    </tr>\n",
       "  </thead>\n",
       "  <tbody>\n",
       "    <tr>\n",
       "      <th>3454</th>\n",
       "      <td>Flying</td>\n",
       "      <td>Faces of the Night</td>\n",
       "      <td>5.8</td>\n",
       "      <td>Andrew Gaerig</td>\n",
       "      <td>http://pitchfork.com/reviews/albums/11490-face...</td>\n",
       "      <td>After playing avant-pop that fused Brooklyn's ...</td>\n",
       "    </tr>\n",
       "    <tr>\n",
       "      <th>3584</th>\n",
       "      <td>Arp</td>\n",
       "      <td>In Light</td>\n",
       "      <td>7.6</td>\n",
       "      <td>Mark Richardson</td>\n",
       "      <td>http://pitchfork.com/reviews/albums/11353-in-l...</td>\n",
       "      <td>Former Tussle member Alexis Georgopoulos reinv...</td>\n",
       "    </tr>\n",
       "    <tr>\n",
       "      <th>2855</th>\n",
       "      <td>The Very Best</td>\n",
       "      <td>Warm Heart of Africa</td>\n",
       "      <td>8.6</td>\n",
       "      <td>Brian Howe</td>\n",
       "      <td>http://pitchfork.com/reviews/albums/13518-warm...</td>\n",
       "      <td>Best new music\\n\\nThe full-length debut from t...</td>\n",
       "    </tr>\n",
       "    <tr>\n",
       "      <th>2131</th>\n",
       "      <td>Amazing Baby</td>\n",
       "      <td>Rewild</td>\n",
       "      <td>6.1</td>\n",
       "      <td>Nate Patrin</td>\n",
       "      <td>http://pitchfork.com/reviews/albums/13286-rewild/</td>\n",
       "      <td>These MGMT buddies have been the focus of a co...</td>\n",
       "    </tr>\n",
       "    <tr>\n",
       "      <th>1065</th>\n",
       "      <td>Psychedelic Horseshit</td>\n",
       "      <td>Laced</td>\n",
       "      <td>7.3</td>\n",
       "      <td>Marc Masters</td>\n",
       "      <td>http://pitchfork.com/reviews/albums/15425-laced/</td>\n",
       "      <td>Now a duo, the self-proclaimed shitgaze band i...</td>\n",
       "    </tr>\n",
       "  </tbody>\n",
       "</table>\n",
       "</div>"
      ],
      "text/plain": [
       "                     artist                 album  score         reviewer                                                url                                             review\n",
       "3454                 Flying    Faces of the Night    5.8    Andrew Gaerig  http://pitchfork.com/reviews/albums/11490-face...  After playing avant-pop that fused Brooklyn's ...\n",
       "3584                    Arp              In Light    7.6  Mark Richardson  http://pitchfork.com/reviews/albums/11353-in-l...  Former Tussle member Alexis Georgopoulos reinv...\n",
       "2855          The Very Best  Warm Heart of Africa    8.6       Brian Howe  http://pitchfork.com/reviews/albums/13518-warm...  Best new music\\n\\nThe full-length debut from t...\n",
       "2131           Amazing Baby                Rewild    6.1      Nate Patrin  http://pitchfork.com/reviews/albums/13286-rewild/  These MGMT buddies have been the focus of a co...\n",
       "1065  Psychedelic Horseshit                 Laced    7.3     Marc Masters   http://pitchfork.com/reviews/albums/15425-laced/  Now a duo, the self-proclaimed shitgaze band i..."
      ]
     },
     "execution_count": 527,
     "metadata": {},
     "output_type": "execute_result"
    }
   ],
   "source": [
    "#this concludes the exploratory analysis\n",
    "sample_df.head()"
   ]
  },
  {
   "cell_type": "code",
   "execution_count": 4,
   "metadata": {},
   "outputs": [
    {
     "data": {
      "text/plain": [
       "\"\\nDAN: YOUR EXPLORATORY ANALYSIS WAS ALL ABOUT THE REVIEWERS AND THEIR CHARACTERISTICS, BUT YOUR MODEL IS TRAINED ON \\nBOW REVIEWS? THAT DOESN'T MAKE ANY SENSE. IF YOUR GOAL IS MODEL CONSTRUCTION YOUR EXPLORATORY ANALYSIS SHOULD INFORM \\nTHAT GOAL.\\n\\nFIRST, REVIEWER SHOULD BE A FEATURE OF YOUR MODEL\\nSECOND, YOU SHOULD DO SOME EXPLORATORY ANALYSIS OF WORDS. IF YOU DID THAT, YOU'D FIND OUT ALL KINDS OF USEFUL STUFF. LIKE \\nTHE FACT THAT YOUR MODEL IS BASICALLY JUST MEMORIZING PARTICULAR WORDS AND ASSOCIATING THEM WITH SCORES RATHER THAN DOING\\nANY KIND OF USEFUL SEMANTIC REASONING, BECAUSE YOUR VOCABULARY SIZE IS HUNDREDS OF TIMES LARGER THAN YOUR DATASET SIZE\\n\\nIN GENER\\n\\n\""
      ]
     },
     "execution_count": 4,
     "metadata": {},
     "output_type": "execute_result"
    }
   ],
   "source": [
    "\"\"\"\n",
    "DAN: YOUR EXPLORATORY ANALYSIS WAS ALL ABOUT THE REVIEWERS AND THEIR CHARACTERISTICS, BUT YOUR MODEL IS TRAINED ON \n",
    "BOW REVIEWS? THAT DOESN'T MAKE ANY SENSE. IF YOUR GOAL IS MODEL CONSTRUCTION YOUR EXPLORATORY ANALYSIS SHOULD INFORM \n",
    "THAT GOAL.\n",
    "\n",
    "FIRST, REVIEWER SHOULD BE A FEATURE OF YOUR MODEL\n",
    "\n",
    "SECOND, YOU SHOULD DO SOME EXPLORATORY ANALYSIS OF WORDS. IF YOU DID THAT, YOU'D FIND OUT ALL KINDS OF USEFUL STUFF. LIKE \n",
    "THE FACT THAT YOUR MODEL IS BASICALLY JUST MEMORIZING PARTICULAR WORDS AND ASSOCIATING THEM WITH SCORES RATHER THAN DOING\n",
    "ANY KIND OF USEFUL SEMANTIC REASONING, BECAUSE YOUR VOCABULARY SIZE IS a zillion TIMES LARGER THAN YOUR DATASET SIZE\n",
    "\n",
    "ALSO, general rule of thumb: If your training performance is higher than your testing performance, you need more data. \n",
    "If your training performance is shit, you need a better model. \n",
    "\n",
    "a fun challenge would be seeing if you can get the model to learn this mapping WITHOUT significantly \n",
    "increasing the dataset size (beyond like 10000 reviews or so)\n",
    "\n",
    "Some tips:\n",
    "\n",
    "- Visualize the distributions of the words in the reviews and try to come up with some better features. I.e. do \n",
    "you really think the number of times that the words \"the\" or \"a\" appear is as important as words like \"bad\" or \"good\"?\n",
    "- Try out more explicit features. What about the length of the review? The number of capitalized words?\n",
    "- Be aware of capitalization. Do you want Bad and bad to be different features? The more features, the easier it is \n",
    "for your model to overfit and the harder it is for it to learn\n",
    "- \n",
    "- If you want to take your NLP game a step farther, check out word vectors: https://machinelearningmastery.com/develop-word-embeddings-python-gensim/\n",
    "\n",
    "\n",
    "\n",
    "\"\"\""
   ]
  },
  {
   "cell_type": "markdown",
   "metadata": {},
   "source": [
    "## Train Classifier"
   ]
  },
  {
   "cell_type": "code",
   "execution_count": 631,
   "metadata": {},
   "outputs": [
    {
     "name": "stdout",
     "output_type": "stream",
     "text": [
      "Number of words analyzed:  49458\n",
      "Average words per article:  647.863\n"
     ]
    }
   ],
   "source": [
    "#Now we'll transform each review into a 'bag of words' using sklearn, in order to create input for our models\n",
    "#we'll also make a y data frame, determining if the reviews are best new music or not\n",
    "bnm = sample_df.score>cutoff_score\n",
    "y = bnm.astype(int).values\n",
    "\n",
    "from sklearn.feature_extraction.text import CountVectorizer\n",
    "vectorizer = CountVectorizer(min_df = 0)\n",
    "vectorizer.fit(sample_df.review)\n",
    "x = vectorizer.transform(sample_df.review)\n",
    "x = x.toarray()\n",
    "\n",
    "print('Number of words analyzed: ', len(vectorizer.get_feature_names()))\n",
    "print('Average words per article: ', np.array([i.sum() for i in x]).mean())\n",
    "\n"
   ]
  },
  {
   "cell_type": "code",
   "execution_count": 529,
   "metadata": {},
   "outputs": [
    {
     "name": "stdout",
     "output_type": "stream",
     "text": [
      "Number of words analyzed:  49458\n",
      "Average words per article:  647.863\n"
     ]
    }
   ],
   "source": [
    "#Same as above but as a function\n",
    "#critics is the dataframe of reviews, etc.\n",
    "from sklearn.feature_extraction.text import CountVectorizer\n",
    "\n",
    "def make_xy(critics, vectorizer=None):\n",
    "    bnm = critics.score>cutoff_score\n",
    "    y = bnm.astype(int).values\n",
    "\n",
    "    vectorizer = CountVectorizer(min_df = 0)\n",
    "    vectorizer.fit(critics.review)\n",
    "    x = vectorizer.transform(critics.review)\n",
    "    x = x.toarray()\n",
    "    \n",
    "    return x, y\n",
    "\n",
    "X, Y = make_xy(sample_df)\n",
    "\n",
    "print('Number of words analyzed: ', len(vectorizer.get_feature_names()))\n",
    "print('Average words per article: ', np.array([i.sum() for i in X]).mean())\n"
   ]
  },
  {
   "cell_type": "code",
   "execution_count": null,
   "metadata": {},
   "outputs": [],
   "source": [
    "\"\"\"\n",
    "DAN: ACCURACY IS A BULLSHIT METRIC. \n",
    "\n",
    "https://tryolabs.com/blog/2013/03/25/why-accuracy-alone-bad-measure-classification-tasks-and-what-we-can-do-about-it/\n",
    "\n",
    "BEST CLASSIFICATION METRIC IS AUROC (aka AUC aka ROC aka AUCROC)\n",
    "https://stats.stackexchange.com/questions/132777/what-does-auc-stand-for-and-what-is-it\n",
    "\n",
    "\n",
    "What is 80% of the reviews were bad and your model just always predicted \"bad review\"? That'd be 80% accuracy. \n",
    "\"\"\""
   ]
  },
  {
   "cell_type": "code",
   "execution_count": 545,
   "metadata": {},
   "outputs": [
    {
     "name": "stdout",
     "output_type": "stream",
     "text": [
      "training accuracy:  0.993125\n",
      "testing accuracy:  0.6525\n"
     ]
    }
   ],
   "source": [
    "from sklearn.model_selection import train_test_split\n",
    "from sklearn.naive_bayes import MultinomialNB\n",
    "\n",
    "#split our data into training data (80%) and testing (20%)\n",
    "xtrain, xtest, ytrain, ytest = train_test_split(X, Y, test_size = 0.2)\n",
    "\n",
    "#fit the naive bayes model\n",
    "nb = MultinomialNB(alpha=0.7) \n",
    "nb.fit(xtrain, ytrain)\n",
    "\n",
    "#test training prediction\n",
    "print('training accuracy: ', sum(nb.predict(xtrain)==ytrain)/len(ytrain))\n",
    "print('testing accuracy: ', sum(nb.predict(xtest)==ytest)/len(ytest))\n",
    "#well this model is most definitely overfit - training performance is much better than testing\n",
    "#also with just 15% of music as bnm, I'm concerned with 81% accuracy\n"
   ]
  },
  {
   "cell_type": "code",
   "execution_count": null,
   "metadata": {},
   "outputs": [],
   "source": [
    "\"\"\"\n",
    "DAN: NAIVE BAYES NOTORIOUSY HAS SHIT CALIBRATION (EXTREME FRIENDLY), AND IN GENERAL MODELS THAT AREN'T EXPLICITLY CALIBRATED ALL HAVE \n",
    "SHIT CALIBRATION. IF YOU WANT RELIABLE CONFIDENCE METRICS, YOU NEED TO USE AN EXPLICIT CALIBRATION TECHNIQUE.\n",
    "\n",
    "CHECK OUT http://scikit-learn.org/stable/modules/calibration.html\n",
    "\n",
    "\"\"\""
   ]
  },
  {
   "cell_type": "code",
   "execution_count": 546,
   "metadata": {},
   "outputs": [
    {
     "data": {
      "image/png": "[encoded data removed]",
      "text/plain": [
       "<matplotlib.figure.Figure at 0x27831a94e10>"
      ]
     },
     "metadata": {},
     "output_type": "display_data"
    }
   ],
   "source": [
    "#let's assess whether our model is well-calibrated (i.e. whether its confidence % is about equal to its accuracy %)\n",
    "hst = plt.hist(nb.predict_proba(xtest)[:,1], bins=20)\n"
   ]
  },
  {
   "cell_type": "code",
   "execution_count": 629,
   "metadata": {},
   "outputs": [
    {
     "data": {
      "text/plain": [
       "[<matplotlib.lines.Line2D at 0x2783076c208>]"
      ]
     },
     "execution_count": 629,
     "metadata": {},
     "output_type": "execute_result"
    },
    {
     "data": {
      "image/png": "[encoded data removed]",
      "text/plain": [
       "<matplotlib.figure.Figure at 0x278506005c0>"
      ]
     },
     "metadata": {},
     "output_type": "display_data"
    }
   ],
   "source": [
    "\"\"\"\n",
    "DAN: JESUS DUDE EVER HEAR OF LINE BREAKS? :) \n",
    "\"\"\"\n",
    "\n",
    "bin_counts = hst[0]\n",
    "probabilities = nb.predict_proba(xtest)\n",
    "digits = np.digitize(probabilities[:,1], hst[1])\n",
    "\n",
    "#next step is to figure out what % of each bin in our test data is fresh\n",
    "#so we'll need to assign ytest to bins per digits\n",
    "binframe = pd.DataFrame({'y':ytest, 'bin':digits})\n",
    "bnm_prob = binframe.groupby('bin').sum()/binframe.groupby('bin').count()\n",
    "#number of reviews in each bin divided by the total number of (test) reviews\n",
    "pct_df = binframe.groupby('bin').count()/binframe.bin.count()\n",
    "#pct_df won't have the right # of items if the bins aren't nicely distributed, so we'll pad it\n",
    "ind = list(range(1,len(hst[0])+2))\n",
    "indy_df = pd.DataFrame({'b':np.zeros(len(ind))}, index=ind)\n",
    "indy_df = indy_df.join(pct_df)\n",
    "indy_df = indy_df.max(axis=1)\n",
    "#plot the cumulative distribution function\n",
    "plt.xlabel('P(fresh)')\n",
    "plt.ylabel('P(predicted fresh)')\n",
    "plt.title('The model is poorly calibrated, & overconfident at both extremes')\n",
    "#plt.plot(hst[1][:-1], np.cumsum(pct_df.values),'.')\n",
    "plt.plot(hst[1], np.cumsum(indy_df.values),'.')\n",
    "plt.plot(hst[1][:-1],hst[1][:-1], alpha=.5)\n",
    "\n",
    "\n",
    "\"\"\"\n",
    "DAN: THIS PLOT IS HARD TO UNDERSTAND. TRY PUTTING A LEGEND ON IT WITH PLT.LEGEND\n",
    "\"\"\""
   ]
  },
  {
   "cell_type": "code",
   "execution_count": null,
   "metadata": {},
   "outputs": [],
   "source": [
    "\"\"\"\n",
    "\n",
    "DAN: I STOPPED REVIEWING HERE BECAUSE IT LOOKS LIKE STUFF BELOW HERE ISN'T REALLY PUT TOGETHER\n",
    "\n",
    "\n",
    "\"\"\""
   ]
  },
  {
   "cell_type": "code",
   "execution_count": null,
   "metadata": {},
   "outputs": [],
   "source": []
  },
  {
   "cell_type": "code",
   "execution_count": null,
   "metadata": {},
   "outputs": [],
   "source": []
  },
  {
   "cell_type": "code",
   "execution_count": 426,
   "metadata": {
    "collapsed": true
   },
   "outputs": [],
   "source": [
    "#So this model is poorly calibrated, and its test accuracy is not too impressive (although better \n",
    "#than random guessing, at least)\n",
    "#hopefully we can improve it by adjusting our hyperparameters\n",
    "#alpha, our smoothing parameter, will help decrease the pull of any particular variable\n",
    "\n"
   ]
  },
  {
   "cell_type": "code",
   "execution_count": 516,
   "metadata": {},
   "outputs": [],
   "source": [
    "#sklearn.cross_validation.cross_val_score(clf, x, y, scorer=log_likelihood)\n",
    "\n",
    "#the grid of parameters to search over\n",
    "alphas = [0, .1, 1, 5, 10, 50]\n",
    "min_dfs = [1e-5, 1e-4, 1e-3, 1e-2, 1e-1]\n",
    "\n",
    "#Find the best value for alpha and min_df, and the best classifier\n",
    "best_alpha = None\n",
    "best_min_df = None\n",
    "max_loglike = -np.inf\n",
    "\n",
    "for a in alphas:\n",
    "    for min_df in min_dfs:         \n",
    "        vectorizer = CountVectorizer(min_df = min_df)       \n",
    "        X, Y = make_xy(sample_df, vectorizer)\n",
    "        \n",
    "        xtrain, xtest, ytrain, ytest = train_test_split(X, Y, test_size = 0.2)\n",
    "        #fit the naive bayes model\n",
    "        nb = MultinomialNB()\n",
    "        #nb.set_params(alpha=a) #i don't understand why this doesn't work\n",
    "        #^alpha trouble\n",
    "        nb.fit(xtrain, ytrain)\n",
    "        #nll = cv_score(nb, X, Y) #function below already implements kfold validation\n",
    "        nll = sklearn.cross_validation.cross_val_score(nb, xtest, ytest, scoring='neg_log_loss')\n",
    "        if sum(nll) > max_loglike:\n",
    "            max_loglike = sum(nll)\n",
    "            best_alpha = alpha\n",
    "            best_min_df = min_df\n",
    "        "
   ]
  },
  {
   "cell_type": "code",
   "execution_count": 503,
   "metadata": {},
   "outputs": [
    {
     "name": "stdout",
     "output_type": "stream",
     "text": [
      "-26.4606640453 | 0.1 | 0.1\n"
     ]
    }
   ],
   "source": [
    "print(max_loglike, '|', best_alpha, '|', best_min_df)\n",
    "\n",
    "#log: 0.1/0.1\n",
    "#same"
   ]
  },
  {
   "cell_type": "code",
   "execution_count": 454,
   "metadata": {},
   "outputs": [
    {
     "data": {
      "text/plain": [
       "-37.090407947805367"
      ]
     },
     "execution_count": 454,
     "metadata": {},
     "output_type": "execute_result"
    }
   ],
   "source": [
    "import sklearn.model_selection\n",
    "ll = sklearn.cross_validation.cross_val_score(nb, xtest, ytest, scoring='neg_log_loss')\n",
    "sum(ll)\n",
    "#-12... pretty bad! 0.683 is as good as random guessing...\n",
    "#pre optimization: array([-12.71206784,  -9.92044569,  -9.87049272])\n",
    "#the sum of neg log loss was -37.09"
   ]
  },
  {
   "cell_type": "code",
   "execution_count": 468,
   "metadata": {},
   "outputs": [],
   "source": [
    "#this cell obsolete\n",
    "\n",
    "from sklearn.cross_validation import KFold\n",
    "\n",
    "def cv_score(clf, x, y, score_func=0):\n",
    "    result = 0\n",
    "    nfold = 5\n",
    "    for train, test in KFold(y.size, nfold):\n",
    "        nb.fit(x[train], y[train])\n",
    "        result += sklearn.cross_validation.cross_val_score(\n",
    "            clf, x[test], y[test], scoring='neg_log_loss')\n",
    "    return result/nfold\n",
    "\n"
   ]
  },
  {
   "cell_type": "markdown",
   "metadata": {},
   "source": [
    "## Some interpretation"
   ]
  },
  {
   "cell_type": "code",
   "execution_count": 636,
   "metadata": {
    "collapsed": true
   },
   "outputs": [],
   "source": [
    "#testing to see which words indicated good results vs. poor\n",
    "words = np.array(vectorizer.get_feature_names())\n",
    "\n",
    "x = np.eye(xtest.shape[1])\n",
    "probs = nb.predict_log_proba(x)[:, 0]\n",
    "ind = np.argsort(probs)"
   ]
  },
  {
   "cell_type": "code",
   "execution_count": 643,
   "metadata": {},
   "outputs": [
    {
     "name": "stdout",
     "output_type": "stream",
     "text": [
      "good words:  ['mingus' 'mercer' 'lucksmiths' 'bronson' 'bloom' 'vee' 'orcutt' 'chatham'\n",
      " 'july' 'konk']\n",
      "bad words:  ['jenkinson' 'perkins' 'mehlan' 'jae' 'gough' 'watain' 'vikernes' 'slater'\n",
      " 'rice' 'lytle']\n"
     ]
    }
   ],
   "source": [
    "print('good words: ',words[ind[:10]])\n",
    "print('bad words: ',words[ind[-10:]])"
   ]
  },
  {
   "cell_type": "markdown",
   "metadata": {},
   "source": [
    "Looks like the best predictor of an album's success is who made it. That makes perfect sense and actually gives me more confidence in the model...\n"
   ]
  },
  {
   "cell_type": "code",
   "execution_count": 667,
   "metadata": {},
   "outputs": [
    {
     "name": "stdout",
     "output_type": "stream",
     "text": [
      "[[ 0.96405948  0.03594052]]\n",
      "[[ 0.20648061  0.79351939]]\n",
      "[[ 0.52786703  0.47213297]]\n"
     ]
    }
   ],
   "source": [
    "#custom review testing\n",
    "print(nb.predict_proba(vectorizer.transform(\n",
    "    ['awful tinny repetitive boring dull'])))\n",
    "print(nb.predict_proba(vectorizer.transform(\n",
    "    ['rich experimental complex excellent luxurious'])))\n",
    "print(nb.predict_proba(vectorizer.transform(\n",
    "    ['kanye'])))\n"
   ]
  },
  {
   "cell_type": "markdown",
   "metadata": {},
   "source": [
    "## Various testing for inputting alpha\n",
    "I was able to get it to work outside of the gridsearch but not within\n"
   ]
  },
  {
   "cell_type": "code",
   "execution_count": 469,
   "metadata": {},
   "outputs": [
    {
     "data": {
      "text/plain": [
       "array([-12.13488975, -11.74472142, -11.94645674])"
      ]
     },
     "execution_count": 469,
     "metadata": {},
     "output_type": "execute_result"
    }
   ],
   "source": [
    "cv_score(nb, x, y)"
   ]
  },
  {
   "cell_type": "code",
   "execution_count": 489,
   "metadata": {},
   "outputs": [
    {
     "data": {
      "text/plain": [
       "array([0, 0, 1, ..., 0, 1, 0])"
      ]
     },
     "execution_count": 489,
     "metadata": {},
     "output_type": "execute_result"
    }
   ],
   "source": [
    "nb = MultinomialNB()\n",
    "nb.set_params(alpha=.1)\n",
    "nb.fit(xtrain, ytrain)\n",
    "nb.predict(xtrain)"
   ]
  },
  {
   "cell_type": "code",
   "execution_count": 501,
   "metadata": {},
   "outputs": [
    {
     "data": {
      "text/plain": [
       "-35.022955315311577"
      ]
     },
     "execution_count": 501,
     "metadata": {},
     "output_type": "execute_result"
    }
   ],
   "source": [
    "vectorizer = CountVectorizer(min_df = min_df)       \n",
    "X, Y = make_xy(sample_df, vectorizer)\n",
    "        \n",
    "xtrain, xtest, ytrain, ytest = train_test_split(X, Y, test_size = 0.2)\n",
    "#fit the naive bayes model\n",
    "nb = MultinomialNB(alpha=1)\n",
    "#nb.set_params(alpha=1)\n",
    "nb.fit(xtrain, ytrain)\n",
    "#nll = cv_score(nb, X, Y) #function below already implements kfold validation\n",
    "nll = sklearn.cross_validation.cross_val_score(nb, xtest, ytest, scoring='neg_log_loss')\n",
    "sum(nll)"
   ]
  },
  {
   "cell_type": "code",
   "execution_count": 514,
   "metadata": {},
   "outputs": [
    {
     "name": "stdout",
     "output_type": "stream",
     "text": [
      "<class 'int'>\n",
      "<class 'float'>\n",
      "<class 'int'>\n",
      "<class 'int'>\n",
      "<class 'int'>\n",
      "<class 'int'>\n"
     ]
    }
   ],
   "source": [
    "alphas = [0, .1, 1, 5, 10, 50]\n",
    "for a in alphas:\n",
    "    print(type(a))"
   ]
  },
  {
   "cell_type": "code",
   "execution_count": null,
   "metadata": {
    "collapsed": true
   },
   "outputs": [],
   "source": []
  }
 ],
 "metadata": {
  "kernelspec": {
   "display_name": "Python 3",
   "language": "python",
   "name": "python3"
  },
  "language_info": {
   "codemirror_mode": {
    "name": "ipython",
    "version": 3
   },
   "file_extension": ".py",
   "mimetype": "text/x-python",
   "name": "python",
   "nbconvert_exporter": "python",
   "pygments_lexer": "ipython3",
   "version": "3.6.3"
  }
 },
 "nbformat": 4,
 "nbformat_minor": 2
}
